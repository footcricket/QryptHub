{
 "cells": [
  {
   "cell_type": "code",
   "execution_count": 4,
   "id": "95869c87",
   "metadata": {},
   "outputs": [],
   "source": [
    "# Import necessary libraries\n",
    "from qiskit import QuantumCircuit, transpile, assemble, Aer, execute\n",
    "from qiskit.visualization import plot_bloch_multivector, plot_histogram"
   ]
  },
  {
   "cell_type": "code",
   "execution_count": 5,
   "id": "370d3689",
   "metadata": {},
   "outputs": [],
   "source": [
    "# Create a quantum circuit with 2 qubits\n",
    "qc = QuantumCircuit(2)\n"
   ]
  },
  {
   "cell_type": "code",
   "execution_count": 6,
   "id": "8a115dc5",
   "metadata": {},
   "outputs": [
    {
     "data": {
      "text/plain": [
       "<qiskit.circuit.instructionset.InstructionSet at 0x2349429cfa0>"
      ]
     },
     "execution_count": 6,
     "metadata": {},
     "output_type": "execute_result"
    }
   ],
   "source": [
    "# Apply basic quantum gates\n",
    "qc.h(0)  # Hadamard gate on qubit 0\n",
    "qc.cx(0, 1)  # CNOT gate (controlled-X) with qubit 0 as the control and qubit 1 as the target"
   ]
  },
  {
   "cell_type": "code",
   "execution_count": 7,
   "id": "a20fdb7e",
   "metadata": {},
   "outputs": [],
   "source": [
    "# Measure the qubits\n",
    "qc.measure_all()"
   ]
  },
  {
   "cell_type": "code",
   "execution_count": 10,
   "id": "25d6b2b3",
   "metadata": {},
   "outputs": [],
   "source": [
    "# Simulate the circuit\n",
    "simulator = Aer.get_backend('qasm_simulator')\n",
    "compiled_circuit = transpile(qc, simulator)\n",
    "job = execute(compiled_circuit, simulator, shots=1024)\n",
    "result = job.result()"
   ]
  },
  {
   "cell_type": "code",
   "execution_count": 11,
   "id": "a65ff8a9",
   "metadata": {},
   "outputs": [
    {
     "name": "stdout",
     "output_type": "stream",
     "text": [
      "Measurement results: {'00': 515, '11': 509}\n"
     ]
    }
   ],
   "source": [
    "# Get the measurement results\n",
    "counts = result.get_counts()\n",
    "print(\"Measurement results:\", counts)"
   ]
  },
  {
   "cell_type": "code",
   "execution_count": 20,
   "id": "b1a7c5ec",
   "metadata": {},
   "outputs": [
    {
     "data": {
      "text/html": [
       "<pre style=\"word-wrap: normal;white-space: pre;background: #fff0;line-height: 1.1;font-family: &quot;Courier New&quot;,Courier,monospace\">        ┌───┐      ░ ┌─┐   \n",
       "   q_0: ┤ H ├──■───░─┤M├───\n",
       "        └───┘┌─┴─┐ ░ └╥┘┌─┐\n",
       "   q_1: ─────┤ X ├─░──╫─┤M├\n",
       "             └───┘ ░  ║ └╥┘\n",
       "meas: 2/══════════════╩══╩═\n",
       "                      0  1 </pre>"
      ],
      "text/plain": [
       "        ┌───┐      ░ ┌─┐   \n",
       "   q_0: ┤ H ├──■───░─┤M├───\n",
       "        └───┘┌─┴─┐ ░ └╥┘┌─┐\n",
       "   q_1: ─────┤ X ├─░──╫─┤M├\n",
       "             └───┘ ░  ║ └╥┘\n",
       "meas: 2/══════════════╩══╩═\n",
       "                      0  1 "
      ]
     },
     "execution_count": 20,
     "metadata": {},
     "output_type": "execute_result"
    }
   ],
   "source": [
    "# Visualize the circuit\n",
    "qc.draw(output=\"text\")"
   ]
  }
 ],
 "metadata": {
  "kernelspec": {
   "display_name": "Python 3 (ipykernel)",
   "language": "python",
   "name": "python3"
  },
  "language_info": {
   "codemirror_mode": {
    "name": "ipython",
    "version": 3
   },
   "file_extension": ".py",
   "mimetype": "text/x-python",
   "name": "python",
   "nbconvert_exporter": "python",
   "pygments_lexer": "ipython3",
   "version": "3.11.5"
  }
 },
 "nbformat": 4,
 "nbformat_minor": 5
}
