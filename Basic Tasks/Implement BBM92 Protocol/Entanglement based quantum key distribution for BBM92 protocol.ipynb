{
 "cells": [
  {
   "cell_type": "code",
   "execution_count": 1,
   "id": "befc20b5",
   "metadata": {},
   "outputs": [],
   "source": [
    "from qiskit import QuantumCircuit, Aer, execute\n",
    "from qiskit.visualization import plot_histogram"
   ]
  },
  {
   "cell_type": "code",
   "execution_count": 2,
   "id": "d2871c1b",
   "metadata": {},
   "outputs": [],
   "source": [
    "def create_entangled_state(qc, alice_qubit, bob_qubit):\n",
    "    \"\"\"Create an entangled Bell state.\"\"\"\n",
    "    qc.h(alice_qubit)\n",
    "    qc.cx(alice_qubit, bob_qubit)"
   ]
  },
  {
   "cell_type": "code",
   "execution_count": 3,
   "id": "5fdb07a6",
   "metadata": {},
   "outputs": [],
   "source": [
    "def alice_operations(qc, alice_qubit, ancilla_qubit):\n",
    "    \"\"\"Alice's operations in the BBM92 protocol.\"\"\"\n",
    "    qc.h(alice_qubit)\n",
    "    qc.cx(alice_qubit, ancilla_qubit)\n",
    "    qc.measure(alice_qubit, 0)\n",
    "    qc.measure(ancilla_qubit, 1)"
   ]
  },
  {
   "cell_type": "code",
   "execution_count": 4,
   "id": "2c0fc1a8",
   "metadata": {},
   "outputs": [],
   "source": [
    "def bob_operations(qc, alice_qubit, bob_qubit, ancilla_qubit):\n",
    "    \"\"\"Bob's operations in the BBM92 protocol.\"\"\"\n",
    "    qc.cx(alice_qubit, bob_qubit)\n",
    "    qc.h(alice_qubit)\n",
    "    qc.measure(alice_qubit, 2)\n",
    "    qc.measure(bob_qubit, 3)"
   ]
  },
  {
   "cell_type": "code",
   "execution_count": 5,
   "id": "e29b598a",
   "metadata": {},
   "outputs": [],
   "source": [
    "def error_correction(qc, alice_qubit, ancilla_qubit):\n",
    "    \"\"\"Error correction using the three-qubit bit flip code.\"\"\"\n",
    "    qc.cx(alice_qubit, ancilla_qubit)\n",
    "    qc.cz(ancilla_qubit, 1)\n",
    "    qc.cx(alice_qubit, ancilla_qubit)"
   ]
  },
  {
   "cell_type": "code",
   "execution_count": 6,
   "id": "8d1e9c1c",
   "metadata": {},
   "outputs": [],
   "source": [
    "def privacy_amplification(qc, alice_qubit, bob_qubit):\n",
    "    \"\"\"Privacy amplification by XORing the remaining qubits.\"\"\"\n",
    "    qc.cx(alice_qubit, bob_qubit)"
   ]
  },
  {
   "cell_type": "code",
   "execution_count": 7,
   "id": "ead8fa06",
   "metadata": {},
   "outputs": [],
   "source": [
    "# Define the quantum circuit\n",
    "qc = QuantumCircuit(4, 4)"
   ]
  },
  {
   "cell_type": "code",
   "execution_count": 8,
   "id": "d1ab41f3",
   "metadata": {},
   "outputs": [],
   "source": [
    "# Create an entangled state (Bell state)\n",
    "create_entangled_state(qc, 0, 2)"
   ]
  },
  {
   "cell_type": "code",
   "execution_count": 9,
   "id": "370d6bbd",
   "metadata": {},
   "outputs": [],
   "source": [
    "# Alice's operations\n",
    "alice_operations(qc, 0, 1)"
   ]
  },
  {
   "cell_type": "code",
   "execution_count": 10,
   "id": "e34573c4",
   "metadata": {},
   "outputs": [],
   "source": [
    "# Bob's operations\n",
    "bob_operations(qc, 0, 2, 3)"
   ]
  },
  {
   "cell_type": "code",
   "execution_count": 11,
   "id": "81c3c5e8",
   "metadata": {},
   "outputs": [],
   "source": [
    "# Error correction\n",
    "error_correction(qc, 1, 2)"
   ]
  },
  {
   "cell_type": "code",
   "execution_count": 12,
   "id": "84d65e25",
   "metadata": {},
   "outputs": [],
   "source": [
    "# Privacy amplification\n",
    "privacy_amplification(qc, 0, 2)"
   ]
  },
  {
   "cell_type": "code",
   "execution_count": 13,
   "id": "b8e09402",
   "metadata": {},
   "outputs": [],
   "source": [
    "# Simulate the circuit\n",
    "simulator = Aer.get_backend('qasm_simulator')\n",
    "job = execute(qc, simulator, shots=1)\n",
    "result = job.result()\n",
    "counts = result.get_counts()"
   ]
  },
  {
   "cell_type": "code",
   "execution_count": 14,
   "id": "f05bfeb0",
   "metadata": {},
   "outputs": [
    {
     "name": "stdout",
     "output_type": "stream",
     "text": [
      "Measurement Results:\n",
      "{'1111': 1}\n"
     ]
    }
   ],
   "source": [
    "# Display the results\n",
    "print(\"Measurement Results:\")\n",
    "print(counts)"
   ]
  },
  {
   "cell_type": "code",
   "execution_count": 15,
   "id": "1598f293",
   "metadata": {},
   "outputs": [],
   "source": [
    "# Extract the final key bits\n",
    "alice_key = int(list(counts.keys())[0][:2], 2)\n",
    "bob_key = int(list(counts.keys())[0][2:], 2)"
   ]
  },
  {
   "cell_type": "code",
   "execution_count": 16,
   "id": "66301637",
   "metadata": {},
   "outputs": [
    {
     "name": "stdout",
     "output_type": "stream",
     "text": [
      "Matching key bits: 11\n"
     ]
    }
   ],
   "source": [
    "# Verify if Alice's and Bob's key bits match\n",
    "if alice_key == bob_key:\n",
    "    print(\"Matching key bits:\", bin(alice_key)[2:])\n",
    "else:\n",
    "    print(\"Key bits do not match. Secure communication may be compromised.\")"
   ]
  },
  {
   "cell_type": "code",
   "execution_count": null,
   "id": "4fd6450f",
   "metadata": {},
   "outputs": [],
   "source": []
  }
 ],
 "metadata": {
  "kernelspec": {
   "display_name": "Python 3 (ipykernel)",
   "language": "python",
   "name": "python3"
  },
  "language_info": {
   "codemirror_mode": {
    "name": "ipython",
    "version": 3
   },
   "file_extension": ".py",
   "mimetype": "text/x-python",
   "name": "python",
   "nbconvert_exporter": "python",
   "pygments_lexer": "ipython3",
   "version": "3.11.5"
  }
 },
 "nbformat": 4,
 "nbformat_minor": 5
}
