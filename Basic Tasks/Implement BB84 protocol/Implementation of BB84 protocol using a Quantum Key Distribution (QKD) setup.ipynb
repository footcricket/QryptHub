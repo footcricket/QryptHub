{
 "cells": [
  {
   "cell_type": "markdown",
   "id": "c712a0f1",
   "metadata": {},
   "source": [
    "# Implementation of BB84 protocol using a Quantum Key Distribution (QKD) setup"
   ]
  },
  {
   "cell_type": "code",
   "execution_count": 1,
   "id": "3dd8c9ee",
   "metadata": {},
   "outputs": [],
   "source": [
    "from qiskit import QuantumCircuit, Aer, execute\n",
    "from qiskit.visualization import plot_histogram\n",
    "import random"
   ]
  },
  {
   "cell_type": "code",
   "execution_count": 2,
   "id": "ecb5c184",
   "metadata": {},
   "outputs": [],
   "source": [
    "# Function to create a random bitstring of a given length\n",
    "def generate_bitstring(length):\n",
    "    return ''.join([random.choice(['0', '1']) for _ in range(length)])"
   ]
  },
  {
   "cell_type": "code",
   "execution_count": 3,
   "id": "c5d9ec41",
   "metadata": {},
   "outputs": [],
   "source": [
    "# Function to encode bits on qubits based on chosen bases\n",
    "def encode_bits(qc, bits, bases):\n",
    "    for i in range(len(bits)):\n",
    "        if bases[i] == 0:  # Rectilinear basis\n",
    "            if bits[i] == '1':\n",
    "                qc.x(i)\n",
    "        elif bases[i] == 1:  # Diagonal basis\n",
    "            if bits[i] == '0':\n",
    "                qc.h(i)\n",
    "            else:\n",
    "                qc.x(i)\n",
    "                qc.h(i)"
   ]
  },
  {
   "cell_type": "code",
   "execution_count": 4,
   "id": "43f72022",
   "metadata": {},
   "outputs": [],
   "source": [
    "# Function to measure qubits based on chosen bases\n",
    "def measure_bits(qc, bases):\n",
    "    measurements = []\n",
    "    for i in range(len(bases)):\n",
    "        if bases[i] == 0:  # Rectilinear basis\n",
    "            qc.measure(i, i)\n",
    "        elif bases[i] == 1:  # Diagonal basis\n",
    "            qc.h(i)\n",
    "            qc.measure(i, i)\n",
    "            qc.h(i)\n",
    "        measurements.append(i)\n",
    "    return measurements"
   ]
  },
  {
   "cell_type": "code",
   "execution_count": 5,
   "id": "fd402af9",
   "metadata": {},
   "outputs": [],
   "source": [
    "# Function to perform error checking\n",
    "def error_check(alice_bitstring, sifted_key, measurements):\n",
    "    errors = 0\n",
    "    for i in measurements:\n",
    "        if sifted_key[i] != int(alice_bitstring[i]):\n",
    "            errors += 1\n",
    "    return errors"
   ]
  },
  {
   "cell_type": "code",
   "execution_count": 6,
   "id": "f2ac4dce",
   "metadata": {},
   "outputs": [],
   "source": [
    "# Function for privacy amplification\n",
    "def privacy_amplification(sifted_key):\n",
    "    # Perform a simple hash function (e.g., XOR) for privacy amplification\n",
    "    hashed_key = [str(int(sifted_key[i]) ^ int(sifted_key[i + 1])) for i in range(0, len(sifted_key) - 1, 2)]\n",
    "    return ''.join(hashed_key)"
   ]
  },
  {
   "cell_type": "code",
   "execution_count": 7,
   "id": "1992932d",
   "metadata": {},
   "outputs": [],
   "source": [
    "# Simulate the QKD setup with error checking and privacy amplification\n",
    "def qkd_setup_with_error_privacy():\n",
    "    # Alice generates a random bitstring and bases\n",
    "    alice_bitstring = generate_bitstring(4)\n",
    "    alice_bases = [random.randint(0, 1) for _ in range(4)]\n",
    "\n",
    "    # Bob chooses random bases\n",
    "    bob_bases = [random.randint(0, 1) for _ in range(4)]\n",
    "\n",
    "    # Set up the quantum circuit\n",
    "    qc = QuantumCircuit(4, 4)\n",
    "\n",
    "    # Alice encodes her bits on qubits\n",
    "    encode_bits(qc, alice_bitstring, alice_bases)\n",
    "\n",
    "    # Bob measures the qubits based on his chosen bases\n",
    "    bob_measurements = measure_bits(qc, bob_bases)\n",
    "\n",
    "    # Simulate the quantum communication channel (idealized)\n",
    "    simulator = Aer.get_backend('qasm_simulator')\n",
    "    job = execute(qc, simulator, shots=1)\n",
    "    result = job.result()\n",
    "    counts = result.get_counts()\n",
    "\n",
    "    # Bob and Alice compare bases to filter bits\n",
    "    sifted_key = [int(counts.get(bin(i)[2:].zfill(4), 0)) % 2 for i in range(16)]\n",
    "\n",
    "    # Error checking\n",
    "    errors = error_check(alice_bitstring, sifted_key, bob_measurements)\n",
    "\n",
    "    # Privacy amplification\n",
    "    final_key = privacy_amplification(sifted_key)\n",
    "\n",
    "    return alice_bitstring, bob_measurements, sifted_key, counts, errors, final_key"
   ]
  },
  {
   "cell_type": "code",
   "execution_count": 8,
   "id": "b65c14e3",
   "metadata": {},
   "outputs": [],
   "source": [
    "# Run the QKD setup with error checking and privacy amplification\n",
    "alice_bits, bob_measurements, sifted_key, counts, errors, final_key = qkd_setup_with_error_privacy()"
   ]
  },
  {
   "cell_type": "code",
   "execution_count": 9,
   "id": "a6711dc1",
   "metadata": {},
   "outputs": [
    {
     "name": "stdout",
     "output_type": "stream",
     "text": [
      "Alice's random bitstring: 0000\n",
      "Bob's measurements: [0, 1, 2, 3]\n",
      "Sifted key: [1, 0, 0, 0, 0, 0, 0, 0, 0, 0, 0, 0, 0, 0, 0, 0]\n",
      "Measurement Results: {'0000': 1}\n",
      "Errors: 1\n",
      "Final Key (after privacy amplification): 10000000\n"
     ]
    }
   ],
   "source": [
    "# Display results\n",
    "print(\"Alice's random bitstring:\", alice_bits)\n",
    "print(\"Bob's measurements:\", bob_measurements)\n",
    "print(\"Sifted key:\", sifted_key)\n",
    "print(\"Measurement Results:\", counts)\n",
    "print(\"Errors:\", errors)\n",
    "print(\"Final Key (after privacy amplification):\", final_key)"
   ]
  },
  {
   "cell_type": "code",
   "execution_count": null,
   "id": "62403acf",
   "metadata": {},
   "outputs": [],
   "source": []
  }
 ],
 "metadata": {
  "kernelspec": {
   "display_name": "Python 3 (ipykernel)",
   "language": "python",
   "name": "python3"
  },
  "language_info": {
   "codemirror_mode": {
    "name": "ipython",
    "version": 3
   },
   "file_extension": ".py",
   "mimetype": "text/x-python",
   "name": "python",
   "nbconvert_exporter": "python",
   "pygments_lexer": "ipython3",
   "version": "3.11.5"
  }
 },
 "nbformat": 4,
 "nbformat_minor": 5
}
