{
 "cells": [
  {
   "cell_type": "code",
   "execution_count": 1,
   "id": "3dd8c9ee",
   "metadata": {},
   "outputs": [],
   "source": [
    "# Import necessary libraries\n",
    "from qiskit import QuantumCircuit, Aer, execute\n",
    "from qiskit.visualization import plot_histogram\n",
    "import random"
   ]
  },
  {
   "cell_type": "code",
   "execution_count": 2,
   "id": "bd4b7aa3",
   "metadata": {},
   "outputs": [],
   "source": [
    "# Define the bitstring variable\n",
    "bitstring = '1010'"
   ]
  },
  {
   "cell_type": "code",
   "execution_count": 3,
   "id": "e4d264e2",
   "metadata": {},
   "outputs": [],
   "source": [
    "# Set up the quantum circuit with two qubits and two classical bits\n",
    "qc = QuantumCircuit(2, 2)"
   ]
  },
  {
   "cell_type": "code",
   "execution_count": 4,
   "id": "2db4ff1c",
   "metadata": {},
   "outputs": [],
   "source": [
    "# Alice generates a random bit string and encodes it onto the qubits using one of four possible bases\n",
    "# For example, to encode the first bit in the rectilinear basis, Alice applies an X gate to the first qubit\n",
    "for i in range(2):\n",
    "    if bitstring[i] == '1':\n",
    "        qc.x(i)"
   ]
  },
  {
   "cell_type": "code",
   "execution_count": 5,
   "id": "16d53512",
   "metadata": {},
   "outputs": [
    {
     "data": {
      "text/plain": [
       "<qiskit.circuit.instructionset.InstructionSet at 0x1ccd9fb1ed0>"
      ]
     },
     "execution_count": 5,
     "metadata": {},
     "output_type": "execute_result"
    }
   ],
   "source": [
    "# Bob randomly chooses a basis for each qubit and measures them\n",
    "# For example, to measure the first qubit in the rectilinear basis, Bob applies an H gate to the first qubit and measures both qubits\n",
    "basis = [random.randint(0, 1) for _ in range(2)]\n",
    "for i in range(2):\n",
    "    if basis[i] == 1:\n",
    "        qc.h(i)\n",
    "\n",
    "qc.measure([0, 1], [0, 1])"
   ]
  },
  {
   "cell_type": "code",
   "execution_count": 6,
   "id": "4bbdba6b",
   "metadata": {},
   "outputs": [],
   "source": [
    "# Alice and Bob publicly compare which bases they used for each qubit\n",
    "# If they used the same basis, they keep the corresponding bit. Otherwise, they discard it\n",
    "for i in range(2):\n",
    "    if basis[i] == 1:\n",
    "        qc.measure(i, i)\n",
    "    else:\n",
    "        qc.h(i)\n",
    "        qc.measure(i, i)"
   ]
  },
  {
   "cell_type": "code",
   "execution_count": 7,
   "id": "a358f325",
   "metadata": {},
   "outputs": [],
   "source": [
    "# Simulate the circuit\n",
    "simulator = Aer.get_backend('qasm_simulator')\n",
    "job = execute(qc, simulator, shots=1)\n",
    "result = job.result()\n",
    "counts = result.get_counts()"
   ]
  },
  {
   "cell_type": "code",
   "execution_count": 8,
   "id": "098745e9",
   "metadata": {},
   "outputs": [],
   "source": [
    "# Extract the measurement results\n",
    "alice_basis = [int(b) for b in bitstring]\n",
    "alice_result = [int(b) for b in bitstring]\n",
    "\n",
    "for i in range(2):\n",
    "    if basis[i] == 0:\n",
    "        alice_result[i] = -1  # Placeholder for bits discarded due to mismatched bases"
   ]
  },
  {
   "cell_type": "code",
   "execution_count": 9,
   "id": "7a8b8edd",
   "metadata": {},
   "outputs": [
    {
     "name": "stdout",
     "output_type": "stream",
     "text": [
      "Measurement Results: {'01': 1}\n"
     ]
    }
   ],
   "source": [
    "# Visualize the measurement results\n",
    "print(\"Measurement Results:\", counts)"
   ]
  },
  {
   "cell_type": "code",
   "execution_count": 10,
   "id": "b187040a",
   "metadata": {},
   "outputs": [
    {
     "name": "stdout",
     "output_type": "stream",
     "text": [
      "Alice's generated bitstring: 1010\n",
      "Alice's chosen bases: [1, 0, 1, 0]\n",
      "Bob's chosen bases: [1, 0]\n",
      "Bob's measurement results: 1\n"
     ]
    }
   ],
   "source": [
    "# Display the results\n",
    "print(\"Alice's generated bitstring:\", bitstring)\n",
    "print(\"Alice's chosen bases:\", alice_basis)\n",
    "print(\"Bob's chosen bases:\", basis)\n",
    "print(\"Bob's measurement results:\", [int(k) for k in counts.keys()][0])"
   ]
  },
  {
   "cell_type": "code",
   "execution_count": 11,
   "id": "d92293e0",
   "metadata": {},
   "outputs": [
    {
     "name": "stdout",
     "output_type": "stream",
     "text": [
      "Matching bases: 2\n"
     ]
    }
   ],
   "source": [
    "# Verify if Alice's and Bob's bases match\n",
    "matching_bases = sum(1 for i in range(2) if alice_basis[i] == basis[i])\n",
    "print(\"Matching bases:\", matching_bases)"
   ]
  },
  {
   "cell_type": "code",
   "execution_count": 12,
   "id": "20e4ac3f",
   "metadata": {},
   "outputs": [
    {
     "name": "stdout",
     "output_type": "stream",
     "text": [
      "Percentage of matching key bits: 50.0\n"
     ]
    }
   ],
   "source": [
    "# Calculate the percentage of matching bits\n",
    "matching_bits = sum(1 for i in range(2) if alice_result[i] == int(bitstring[i]))\n",
    "percentage_matching = (matching_bits / matching_bases) * 100\n",
    "print(\"Percentage of matching key bits:\", percentage_matching)"
   ]
  },
  {
   "cell_type": "code",
   "execution_count": null,
   "id": "1315f53e",
   "metadata": {},
   "outputs": [],
   "source": []
  }
 ],
 "metadata": {
  "kernelspec": {
   "display_name": "Python 3 (ipykernel)",
   "language": "python",
   "name": "python3"
  },
  "language_info": {
   "codemirror_mode": {
    "name": "ipython",
    "version": 3
   },
   "file_extension": ".py",
   "mimetype": "text/x-python",
   "name": "python",
   "nbconvert_exporter": "python",
   "pygments_lexer": "ipython3",
   "version": "3.11.5"
  }
 },
 "nbformat": 4,
 "nbformat_minor": 5
}
